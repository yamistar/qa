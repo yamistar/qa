{
  "nbformat": 4,
  "nbformat_minor": 0,
  "metadata": {
    "colab": {
      "provenance": [],
      "authorship_tag": "ABX9TyPzhLofzr2zpWr+S6wTnGZm",
      "include_colab_link": true
    },
    "kernelspec": {
      "name": "python3",
      "display_name": "Python 3"
    },
    "language_info": {
      "name": "python"
    }
  },
  "cells": [
    {
      "cell_type": "markdown",
      "metadata": {
        "id": "view-in-github",
        "colab_type": "text"
      },
      "source": [
        "<a href=\"https://colab.research.google.com/github/yamistar/qa/blob/main/%ED%8F%AC%ED%8A%B8%ED%8F%B4%EB%A6%AC%EC%98%A4.ipynb\" target=\"_parent\"><img src=\"https://colab.research.google.com/assets/colab-badge.svg\" alt=\"Open In Colab\"/></a>"
      ]
    },
    {
      "cell_type": "markdown",
      "source": [
        "## 1. 소개 (Introduction)\n",
        "\n",
        "- 자기 소개:\n",
        "당신이 누구이며, 어떤 일을 하는지 간략하게 소개합니다. QA 분야에 대한 열정과 목표를 명확하게 드러내는 것이 좋습니다.\n",
        "\n",
        "- 경력 요약:\n",
        "QA 경력을 간략하게 요약합니다. 관련 경험, 기술, 자격증 등을 언급하여 전문성을 강조합니다.\n"
      ],
      "metadata": {
        "id": "snQWC8VOurew"
      }
    },
    {
      "cell_type": "markdown",
      "source": [],
      "metadata": {
        "id": "D41NlxeNvbAR"
      }
    },
    {
      "cell_type": "markdown",
      "source": [
        "\n",
        "##2. 기술 (Skills)\n",
        "\n",
        "- 테스트 유형:\n",
        "수행 경험이 있는 다양한 테스트 유형 (예: 기능 테스트, 성능 테스트, 보안 테스트 등) 을 나열합니다. 각 테스트 유형에 대한 이해도를 간략하게 설명합니다.\n",
        "- 테스트 도구:\n",
        "사용 경험이 있는 테스트 도구 (예: Selenium, JMeter, Jira 등) 를 나열합니다. 각 도구에 대한 숙련도를 명시합니다.\n",
        "- 프로그래밍 언어:\n",
        "Python, Java 등 테스트 자동화에 사용되는 프로그래밍 언어에 대한 지식을 언급합니다.\n",
        "- 기타 기술:\n",
        "문제 해결 능력, 의사소통 능력, 협업 능력 등 QA 업무에 필요한 기타 기술들을 나열합니다.\n"
      ],
      "metadata": {
        "id": "ZnycpDuMu5sE"
      }
    },
    {
      "cell_type": "code",
      "source": [],
      "metadata": {
        "id": "j1anHvFqvB9f"
      },
      "execution_count": null,
      "outputs": []
    },
    {
      "cell_type": "markdown",
      "source": [
        "\n",
        "##3. 프로젝트 (Projects)\n",
        "\n",
        "- 프로젝트 개요: 참여했던 프로젝트에 대한 간략한 설명을 제공합니다. 프로젝트의 목표, 규모, 역할 등을 명시합니다.\n",
        "- 테스트 활동: 각 프로젝트에서 수행했던 테스트 활동을 자세하게 설명합니다. - - 테스트 계획, 테스트 케이스 설계, 테스트 실행, 결함 보고 등을 포함합니다.\n",
        "- 결과 및 성과: 프로젝트에서 달성한 결과 및 성과를 정량적으로 제시합니다. 예를 들어, 발견된 결함 수, 테스트 커버리지, 성능 개선율 등을 언급합니다.\n",
        "- GitHub 링크: 프로젝트 관련 코드 또는 문서를 GitHub에 공개하고 링크를 첨부합니다. (선택 사항)"
      ],
      "metadata": {
        "id": "V3d6fsJyvC0u"
      }
    },
    {
      "cell_type": "markdown",
      "source": [
        "\n",
        "\n",
        "##4. 추가 정보 (Additional Information)\n",
        "\n",
        "- 자격증: ISTQB, CSTE 등 QA 관련 자격증을 나열합니다.\n",
        "- 교육: QA 관련 교육 이수 경력을 명시합니다.\n",
        "- 수상 경력: QA 관련 수상 경력을 기재합니다. (선택 사항)\n",
        "- 블로그/포럼: QA 관련 블로그나 포럼 활동을 소개합니다. (선택 사항)\n",
        "\n"
      ],
      "metadata": {
        "id": "sbFNoF-svEms"
      }
    },
    {
      "cell_type": "markdown",
      "source": [
        "##5. 마무리 (Conclusion)\n",
        "\n",
        "- 요약: 포트폴리오의 주요 내용을 간략하게 요약합니다.\n",
        "- 향후 계획: QA 분야에서의 향후 목표와 계획을 제시합니다.\n",
        "- 연락처: 이메일, LinkedIn 프로필 URL 등 연락처를 기재합니다."
      ],
      "metadata": {
        "id": "om1txYlqvHNd"
      }
    },
    {
      "cell_type": "markdown",
      "source": [],
      "metadata": {
        "id": "9Orr0sEevIQg"
      }
    }
  ]
}