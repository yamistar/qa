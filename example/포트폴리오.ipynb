{
  "nbformat": 4,
  "nbformat_minor": 0,
  "metadata": {
    "colab": {
      "provenance": [],
      "authorship_tag": "ABX9TyNRWY+HKXXs63ZNUpzQaiJC",
      "include_colab_link": true
    },
    "kernelspec": {
      "name": "python3",
      "display_name": "Python 3"
    },
    "language_info": {
      "name": "python"
    }
  },
  "cells": [
    {
      "cell_type": "markdown",
      "metadata": {
        "id": "view-in-github",
        "colab_type": "text"
      },
      "source": [
        "<a href=\"https://colab.research.google.com/github/yamistar/qa/blob/main/example/%ED%8F%AC%ED%8A%B8%ED%8F%B4%EB%A6%AC%EC%98%A4.ipynb\" target=\"_parent\"><img src=\"https://colab.research.google.com/assets/colab-badge.svg\" alt=\"Open In Colab\"/></a>"
      ]
    },
    {
      "cell_type": "markdown",
      "source": [
        "## 1. 소개 (Introduction)\n",
        "\n",
        "- SW QA 엔지니어입니다. CMS, e-커머스, 오디오북 서비스, SaaS 서비스, 접근제어 및 DB 암호화 제품 그리고 검색 시스템 등 폭넓은 경험을 해왔습니다. B2B, B2C, 워터폴, 애자일 환경 등 여러 환경에서 품질관리, 요구사항 분석, 테스트 설계 및 수행, 시스템 배포 그리고 QA 리드 역할을 했습니다.\n",
        "\n",
        "- Email: vividarling@naver.com\n",
        "- 링크드인 : https://www.linkedin.com/in/yumi-leee/\n",
        "- GitHub : https://github.com/yamistar\n",
        "- 블로그: https://blog.naver.com/vividarling\n",
        "\n"
      ],
      "metadata": {
        "id": "snQWC8VOurew"
      }
    },
    {
      "cell_type": "markdown",
      "source": [
        "\n",
        "##2. 기술 (Skills)\n",
        "\n",
        "- 테스트 유형: 기능 테스트, 성능 테스트, 보안 테스트 등을 나열합니다. 각 테스트 유형에 대한 이해도를 간략하게 설명합니다.\n",
        "- 테스트 도구: Selenium, Jira 각 도구에 대한 숙련도를 명시합니다.\n",
        "- 프로그래밍 언어: Python, Java\n",
        "- 기타 기술: 문제 해결 능력, 의사소통 능력, 협업 능력 문서작성능력\n"
      ],
      "metadata": {
        "id": "ZnycpDuMu5sE"
      }
    },
    {
      "cell_type": "markdown",
      "source": [
        "\n",
        "##3. 프로젝트 (Projects)\n",
        "\n",
        "- 프로젝트 개요: 참여했던 프로젝트에 대한 간략한 설명을 제공합니다. 프로젝트의 목표, 규모, 역할 등을 명시합니다.\n",
        "- 테스트 활동: 각 프로젝트에서 수행했던 테스트 활동을 자세하게 설명합니다.\n",
        "- 테스트 계획, 테스트 케이스 설계, 테스트 실행, 결함 보고\n",
        "- 결과 및 성과: 프로젝트에서 달성한 결과 및 성과를 정량\n",
        "예를 들어, 발견된 결함 수, 테스트 커버리지, 성능 개선율 등을 언급합니다.\n"
      ],
      "metadata": {
        "id": "V3d6fsJyvC0u"
      }
    },
    {
      "cell_type": "markdown",
      "source": [
        "\n",
        "\n",
        "##4. 추가 정보 (Additional Information)\n",
        "\n",
        "- 자격증: ISTQB AL, 정보처리기사, MOS\n",
        "- 교육: QA 관련 교육 이수 경험 많음\n",
        "\n",
        "\n",
        "\n"
      ],
      "metadata": {
        "id": "sbFNoF-svEms"
      }
    },
    {
      "cell_type": "markdown",
      "source": [
        "##5. 마무리 (Conclusion)\n",
        "\n",
        "- 요약: 포트폴리오의 주요 내용을 간략하게 요약합니다.\n",
        "- 향후 계획: QA 분야에서의 향후 목표와 계획을 제시합니다.\n"
      ],
      "metadata": {
        "id": "om1txYlqvHNd"
      }
    },
    {
      "cell_type": "markdown",
      "source": [],
      "metadata": {
        "id": "9Orr0sEevIQg"
      }
    }
  ]
}